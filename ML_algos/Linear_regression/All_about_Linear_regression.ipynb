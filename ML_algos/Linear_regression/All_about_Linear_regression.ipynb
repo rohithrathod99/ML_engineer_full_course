{
 "cells": [
  {
   "attachments": {},
   "cell_type": "markdown",
   "id": "01f95b13",
   "metadata": {},
   "source": [
    "# <u><center>Linear Regression\n",
    "\n",
    "**Linear** means straight, and **Regression** means finding relationship between ind and dep var\n",
    "\n",
    "    \n",
    "1. It's a statistical method used for predictive analysis. It's a supervised learning technique\n",
    " \n",
    "    \n",
    "2. It predicts only continuous/real/numeric values(Eg: Sales,Salary,etc..). Example: Predicting the salary(y) of an employee given the years of exp(x).\n",
    " \n",
    "    \n",
    "3. It shows linear relationship between dep var(y) and one/more ind var(x1, x2.....), meaning, how y changes with change in x.\n",
    " \n",
    "    \n",
    "4. Graphically represented by straight line, and mathematically by equation - \n",
    "##### <center>target_or_ind_var(y) = intercept(a) + LR_coeff(a1) * ind_var_or_predictor(x1) + random_error(e)\n",
    "    \n",
    "    Here, \n",
    "    **a1** is the slope/gradient of the line, and can be +ve/-ve/zero. \n",
    "    **a** is the intecept, can be +ve/-ve/zero.\n",
    "         \n",
    "<img src=\"linear_reg_straight_line.jpeg\" width=\"300\" height=\"300\">"
   ]
  },
  {
   "cell_type": "markdown",
   "id": "4b55e782",
   "metadata": {},
   "source": [
    "5. <u>**Types of Linear regression**</u>:\n",
    "    - Simple LR: Only one ind var exist\n",
    "    - Multiple LR: Two/more ind var exist\n",
    "\n",
    "    \n",
    "6. **LR line** shows two type of relationship b/w dep and ind var. If y increases as x increases then **Positive Linear Relationship**, and if y descreases as x increases then **Negative Linear Relationship**.\n",
    "\n",
    "    \n",
    "7. The purpose is to find the best fit line, meaning, the error b/w the ind and dep var should be minimized, and the regression line should have least error. To do that, we have weights/co-eff of the line(a and a1). So, we need to find the best co-eff of line by experimenting with diff values. To get the best co-eff, we use **cost function.**\n",
    "\n",
    "    \n",
    "8. <u>**Cost funtion**</u>:\n",
    "    - It optimises the regression co-eff\n",
    "    - It measures the performance of LR model\n",
    "    - It is used to find accuracy of the Mapping/Hyothesis function(equation b/w y and x)\n",
    "    - For LR, we use **Mean square error(MSE)** as cost function.\n",
    "    - MSE - It's the avg of diff b/w the actual and predicted values.\n",
    "    \n",
    "<img src=\"mse_equation.jpg\" width=\"300\" height=\"300\">"
   ]
  },
  {
   "cell_type": "markdown",
   "id": "e8af10d3",
   "metadata": {},
   "source": [
    "9. <u>**Residual**</u>: The diff between the actual and predicted values. If the points are far from regression line then high residual, and vice versa.\n",
    "\n",
    "\n",
    "10. So here, we have to find out the best co-eff, also means, iterating over diff value of weights to minimize the MSE/Cost function or in other words to reduce the residuals. To do this, we use **Gradient descent method**.\n",
    "\n",
    "\n",
    "11. <u>**Gradient descent(GD)**</u>: \n",
    "     - Main function is to update the co-eff of the line, and minimize the Cost function/MSE/Residuals. \n",
    "     - So mathematically, it's a minimization problem, meaning, we have to reach some minimum point of the function, also called convergence. \n",
    "     - It starts by randomly selecting the values of weights/co-eff, and iteratively reaching the point where the MSE is least, basically finding the minima of the cost function.\n",
    "     - In GD algo, the speed of reaching the minima point is dependent on learning rate(alpha), which means, the number of steps you take for each iteration. It means, changing one weight/co-eff of the line, and keeping other constant. And for each iteration, we calculate MSE. It will go on until we find the best value of co-eff.\n",
    "     - Here we take partial derivatives(also called gradient) of each weights, and keep updating the values as per the learning rate.\n",
    "     - If we select the optimum value of learning rate, then our GD algo will converge in less no. of iterations. So here learning rate defines the performance of GD algo.\n",
    "\n",
    "\n",
    "12. **<u>Model performance**</u>:\n",
    "    - R-squared method: Statistical method used to find the godness of fit.\n",
    "    - Values raging from 0-100\n",
    "    - Higher the R-square value, stronger is the relation b/w y and x, better the model.\n",
    "    - Also called, coefficient of determination.\n",
    "    - D - Learn more about R-squared"
   ]
  },
  {
   "cell_type": "markdown",
   "id": "85838212",
   "metadata": {},
   "source": [
    "13. <u>**Assumptions**</u>:\n",
    "    - Linear relationship b/w y and x.\n",
    "    - Small or no multicollinearity b/w ind var\n",
    "    - Homogeneity of variance: The error term doesn't change much or is constant as the value of ind var changes.\n",
    "    - The error terms must be normally distributed.\n",
    "    - No autocorellation in error terms."
   ]
  },
  {
   "cell_type": "markdown",
   "id": "367d01df",
   "metadata": {},
   "source": [
    "## Implementation of Simple LR"
   ]
  },
  {
   "cell_type": "code",
   "execution_count": 49,
   "id": "5cd02a97",
   "metadata": {},
   "outputs": [
    {
     "data": {
      "image/png": "[encoded data removed]",
      "text/plain": [
       "<Figure size 432x288 with 1 Axes>"
      ]
     },
     "metadata": {
      "needs_background": "light"
     },
     "output_type": "display_data"
    }
   ],
   "source": [
    "# import some required libraries\n",
    "import matplotlib.pyplot as plt\n",
    "import pandas as pd\n",
    "import numpy as np\n",
    "\n",
    "# Define dataset. Salary = y and exp = x\n",
    "experience = np.array([2.4,5.0,1.5,3.8,8.7,3.6,1.2,8.1,2.5,5,1.6,1.6,2.4,3.9,5.4])\n",
    "salary = np.array([2.1,4.7,1.7,3.6,8.7,3.2,1.0,8.0,2.4,6,1.1,1.3,2.4,3.9,4.8])\n",
    "n = np.size(exp)\n",
    "\n",
    "# Plot the data points\n",
    "plt.scatter(experience,salary, color = 'red')\n",
    "plt.xlabel(\"Experience\")\n",
    "plt.ylabel(\"Salary\")\n",
    "plt.show()"
   ]
  },
  {
   "cell_type": "code",
   "execution_count": 50,
   "id": "cc46cbbe",
   "metadata": {
    "scrolled": false
   },
   "outputs": [],
   "source": [
    "# Initialize the parameters\n",
    "a0 = 0                  # intercept\n",
    "a1 = 0                  # Slope\n",
    "lr = 0.0001             # Learning rate\n",
    "iterations = 1000       # Number of iterations\n",
    "error = []              # Error array to calculate cost for each iterations.\n",
    "for itr in range(iterations):\n",
    "    error_cost = 0\n",
    "    cost_a0 = 0\n",
    "    cost_a1 = 0\n",
    "    for i in range(len(experience)):\n",
    "        y_pred = a0+a1*experience[i]   # predict value for given x\n",
    "        error_cost = error_cost +(salary[i]-y_pred)**2\n",
    "        for j in range(len(experience)):\n",
    "            partial_wrt_a0 = -2 *(salary[j] - (a0 + a1*experience[j]))                #partial derivative w.r.t a0\n",
    "            partial_wrt_a1 = (-2*experience[j])*(salary[j]-(a0 + a1*experience[j]))   #partial derivative w.r.t a1\n",
    "            cost_a0 = cost_a0 + partial_wrt_a0      #calculate cost for each number and add\n",
    "            cost_a1 = cost_a1 + partial_wrt_a1      #calculate cost for each number and add\n",
    "        a0 = a0 - lr * cost_a0    #update a0\n",
    "        a1 = a1 - lr * cost_a1    #update a1\n",
    "        #print(itr,a0,a1)          #Check iteration and updated a0 and a1\n",
    "    error.append(error_cost)      #Append the data in array"
   ]
  },
  {
   "cell_type": "code",
   "execution_count": 51,
   "id": "b342fa3b",
   "metadata": {
    "scrolled": true
   },
   "outputs": [
    {
     "data": {
      "text/plain": [
       "Text(0, 0.5, 'Error')"
      ]
     },
     "execution_count": 51,
     "metadata": {},
     "output_type": "execute_result"
    },
    {
     "data": {
      "image/png": "[encoded data removed]",
      "text/plain": [
       "<Figure size 720x360 with 1 Axes>"
      ]
     },
     "metadata": {
      "needs_background": "light"
     },
     "output_type": "display_data"
    }
   ],
   "source": [
    "# Plot the error for each iteration\n",
    "plt.figure(figsize=(10,5))\n",
    "plt.plot(np.arange(1,len(error)+1),error,color='red',linewidth = 5)\n",
    "plt.title(\"Iteration vr error\")\n",
    "plt.xlabel(\"iterations\")\n",
    "plt.ylabel(\"Error\")"
   ]
  },
  {
   "cell_type": "code",
   "execution_count": 52,
   "id": "4cc624ea",
   "metadata": {},
   "outputs": [
    {
     "name": "stdout",
     "output_type": "stream",
     "text": [
      "-0.21354150071690242 1.0247464287610857\n"
     ]
    }
   ],
   "source": [
    "print(a0, a1)"
   ]
  },
  {
   "cell_type": "code",
   "execution_count": 53,
   "id": "0c0c7d47",
   "metadata": {},
   "outputs": [
    {
     "name": "stdout",
     "output_type": "stream",
     "text": [
      "[2.24584993 4.91019064 1.32357814 3.68049493 8.70175243 3.47554564\n",
      " 1.01615421 8.08690457 2.34832457 4.91019064 1.42605279 1.42605279\n",
      " 2.24584993 3.78296957 5.32008921]\n"
     ]
    }
   ],
   "source": [
    "# Predict the salary by using optimum co-eff/weights of the best fit regression line\n",
    "pred = a0 + a1*experience\n",
    "print(pred)"
   ]
  },
  {
   "cell_type": "code",
   "execution_count": 54,
   "id": "ff3b82d7",
   "metadata": {},
   "outputs": [
    {
     "data": {
      "text/plain": [
       "Text(0, 0.5, 'salary')"
      ]
     },
     "execution_count": 54,
     "metadata": {},
     "output_type": "execute_result"
    },
    {
     "data": {
      "image/png": "[encoded data removed]",
      "text/plain": [
       "<Figure size 432x288 with 1 Axes>"
      ]
     },
     "metadata": {
      "needs_background": "light"
     },
     "output_type": "display_data"
    }
   ],
   "source": [
    "# Plot the regression line.\n",
    "plt.scatter(experience,salary,color = 'red')\n",
    "plt.plot(experience,pred, color = 'green')\n",
    "plt.xlabel(\"experience\")\n",
    "plt.ylabel(\"salary\")"
   ]
  },
  {
   "cell_type": "code",
   "execution_count": 55,
   "id": "e604292c",
   "metadata": {},
   "outputs": [
    {
     "name": "stdout",
     "output_type": "stream",
     "text": [
      "mean squared error is 0.12785817711928918\n"
     ]
    }
   ],
   "source": [
    "# Calculate the MSE\n",
    "error1 = salary - pred\n",
    "se = np.sum(error1 ** 2)\n",
    "mse = se/n\n",
    "print(\"mean squared error is\", mse)"
   ]
  },
  {
   "cell_type": "markdown",
   "id": "ffb8f628",
   "metadata": {},
   "source": [
    "## Implementation of LR using Sklearn package"
   ]
  },
  {
   "cell_type": "code",
   "execution_count": 56,
   "id": "65918377",
   "metadata": {},
   "outputs": [
    {
     "name": "stdout",
     "output_type": "stream",
     "text": [
      "slope [1.02474643]\n",
      "Intercept -0.2135415007169028\n",
      "MSE 0.1278581771192891\n"
     ]
    }
   ],
   "source": [
    "# Use the scikit library to confirm the above steps.\n",
    "from sklearn.linear_model import LinearRegression\n",
    "from sklearn.metrics import mean_squared_error \n",
    "\n",
    "experience = experience.reshape(-1,1)\n",
    "\n",
    "model = LinearRegression()\n",
    "model.fit(experience,salary)\n",
    "\n",
    "salary_pred = model.predict(experience)\n",
    "\n",
    "Mse = mean_squared_error(salary, salary_pred)\n",
    "\n",
    "print('slope', model.coef_)\n",
    "print(\"Intercept\", model.intercept_)\n",
    "print(\"MSE\", Mse)"
   ]
  },
  {
   "cell_type": "code",
   "execution_count": null,
   "id": "5f537a5b",
   "metadata": {},
   "outputs": [],
   "source": []
  }
 ],
 "metadata": {
  "kernelspec": {
   "display_name": "Python 3",
   "language": "python",
   "name": "python3"
  },
  "language_info": {
   "codemirror_mode": {
    "name": "ipython",
    "version": 3
   },
   "file_extension": ".py",
   "mimetype": "text/x-python",
   "name": "python",
   "nbconvert_exporter": "python",
   "pygments_lexer": "ipython3",
   "version": "3.8.8"
  }
 },
 "nbformat": 4,
 "nbformat_minor": 5
}
